{
 "cells": [
  {
   "cell_type": "code",
   "execution_count": 1,
   "id": "8677c829-7ad7-4b1d-8c06-d14fe4b4a85f",
   "metadata": {},
   "outputs": [
    {
     "name": "stdout",
     "output_type": "stream",
     "text": [
      "2.0\n"
     ]
    }
   ],
   "source": [
    "def media():\n",
    "    valor = (1+2+3)/3\n",
    "    print(valor)\n",
    "media()"
   ]
  },
  {
   "cell_type": "code",
   "execution_count": 4,
   "id": "2782615c-eac9-49a2-a243-04ec7eb7f1ad",
   "metadata": {},
   "outputs": [],
   "source": [
    "def media(number01, number02, number03):\n",
    "    valor = (number01+number02+number03)/3\n",
    "    print(valor)"
   ]
  },
  {
   "cell_type": "code",
   "execution_count": 5,
   "id": "04c01203-92dc-4f46-b223-4eb5898d12ae",
   "metadata": {},
   "outputs": [
    {
     "name": "stdout",
     "output_type": "stream",
     "text": [
      "2.0\n"
     ]
    }
   ],
   "source": [
    "media(1,2,3)"
   ]
  },
  {
   "cell_type": "code",
   "execution_count": 8,
   "id": "081f65ad-1824-4adf-8718-dc0d31732f71",
   "metadata": {},
   "outputs": [
    {
     "name": "stdout",
     "output_type": "stream",
     "text": [
      "4.5\n"
     ]
    }
   ],
   "source": [
    "def media(lista):\n",
    "    valor = sum(lista)/len(lista)\n",
    "    print(valor)\n",
    "media([1,2,3,4,5,6,7,8])"
   ]
  },
  {
   "cell_type": "code",
   "execution_count": 9,
   "id": "91fb8e9d-a7a1-4e3f-858a-62bae8d7be5f",
   "metadata": {},
   "outputs": [
    {
     "name": "stdout",
     "output_type": "stream",
     "text": [
      "4.5\n"
     ]
    }
   ],
   "source": [
    "resultado = media([1,2,3,4,5,6,7,8,9,0])\n",
    "resultado"
   ]
  },
  {
   "cell_type": "code",
   "execution_count": 10,
   "id": "97b08fea-2665-4894-a20a-81487e04cb06",
   "metadata": {},
   "outputs": [
    {
     "data": {
      "text/plain": [
       "NoneType"
      ]
     },
     "execution_count": 10,
     "metadata": {},
     "output_type": "execute_result"
    }
   ],
   "source": [
    "type(resultado)"
   ]
  },
  {
   "cell_type": "code",
   "execution_count": null,
   "id": "92699d63-ff82-4e36-b8dd-3424005b4b0a",
   "metadata": {},
   "outputs": [],
   "source": []
  }
 ],
 "metadata": {
  "kernelspec": {
   "display_name": "Python [conda env:base] *",
   "language": "python",
   "name": "conda-base-py"
  },
  "language_info": {
   "codemirror_mode": {
    "name": "ipython",
    "version": 3
   },
   "file_extension": ".py",
   "mimetype": "text/x-python",
   "name": "python",
   "nbconvert_exporter": "python",
   "pygments_lexer": "ipython3",
   "version": "3.13.5"
  }
 },
 "nbformat": 4,
 "nbformat_minor": 5
}
