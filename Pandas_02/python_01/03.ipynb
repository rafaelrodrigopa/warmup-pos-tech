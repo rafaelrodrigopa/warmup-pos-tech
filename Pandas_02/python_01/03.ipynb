{
 "cells": [
  {
   "cell_type": "code",
   "execution_count": 1,
   "id": "8ab0a372-36e4-419b-8889-9259f4717c06",
   "metadata": {},
   "outputs": [],
   "source": [
    "import pandas as pd"
   ]
  },
  {
   "cell_type": "code",
   "execution_count": 2,
   "id": "e56fe6ec-94d2-4afc-8e47-7f87f4713736",
   "metadata": {},
   "outputs": [],
   "source": [
    "dados = {'Rafael':31,'Rodrigo':32,'Pereira':33,'Almeida':34}"
   ]
  },
  {
   "cell_type": "code",
   "execution_count": 3,
   "id": "d1d6436d-082e-44dc-abbb-103a25627908",
   "metadata": {},
   "outputs": [
    {
     "data": {
      "text/plain": [
       "{'Rafael': 31, 'Rodrigo': 32, 'Pereira': 33, 'Almeida': 34}"
      ]
     },
     "execution_count": 3,
     "metadata": {},
     "output_type": "execute_result"
    }
   ],
   "source": [
    "dados"
   ]
  },
  {
   "cell_type": "code",
   "execution_count": 4,
   "id": "1f8e8ebc-f117-47da-b385-8dd5b2a99d84",
   "metadata": {},
   "outputs": [
    {
     "data": {
      "text/plain": [
       "33"
      ]
     },
     "execution_count": 4,
     "metadata": {},
     "output_type": "execute_result"
    }
   ],
   "source": [
    "dados['Pereira']\n",
    "# Pesquisa o valor dentro do dicionario"
   ]
  },
  {
   "cell_type": "code",
   "execution_count": 5,
   "id": "8dd224e6-fe4c-4e1c-8e76-e37947a4c837",
   "metadata": {},
   "outputs": [
    {
     "data": {
      "text/plain": [
       "True"
      ]
     },
     "execution_count": 5,
     "metadata": {},
     "output_type": "execute_result"
    }
   ],
   "source": [
    "'Pereira' in dados\n",
    "# Verifica se a chave Pereira está presente em dados"
   ]
  },
  {
   "cell_type": "code",
   "execution_count": 6,
   "id": "72bf2a50-bd2f-4829-a637-7e5aa04d4db9",
   "metadata": {},
   "outputs": [
    {
     "data": {
      "text/plain": [
       "False"
      ]
     },
     "execution_count": 6,
     "metadata": {},
     "output_type": "execute_result"
    }
   ],
   "source": [
    "'Ferreira' in dados"
   ]
  },
  {
   "cell_type": "code",
   "execution_count": 7,
   "id": "4b6580fe-e981-4183-ba19-958821dde496",
   "metadata": {},
   "outputs": [
    {
     "data": {
      "text/plain": [
       "True"
      ]
     },
     "execution_count": 7,
     "metadata": {},
     "output_type": "execute_result"
    }
   ],
   "source": [
    "'Ferreira' not in dados"
   ]
  },
  {
   "cell_type": "code",
   "execution_count": 8,
   "id": "1ecd741d-73d8-4e4d-bae6-a5d6947e4287",
   "metadata": {},
   "outputs": [
    {
     "data": {
      "text/plain": [
       "4"
      ]
     },
     "execution_count": 8,
     "metadata": {},
     "output_type": "execute_result"
    }
   ],
   "source": [
    "len(dados)"
   ]
  },
  {
   "cell_type": "code",
   "execution_count": 9,
   "id": "76fc3b83-af8e-4779-99bb-0f4f364460dd",
   "metadata": {},
   "outputs": [],
   "source": [
    "dados['Ferreira'] = 35"
   ]
  },
  {
   "cell_type": "code",
   "execution_count": 10,
   "id": "18e58755-ab9e-4f82-915a-51f0a9f0e95a",
   "metadata": {},
   "outputs": [
    {
     "data": {
      "text/plain": [
       "{'Rafael': 31, 'Rodrigo': 32, 'Pereira': 33, 'Almeida': 34, 'Ferreira': 35}"
      ]
     },
     "execution_count": 10,
     "metadata": {},
     "output_type": "execute_result"
    }
   ],
   "source": [
    "dados"
   ]
  },
  {
   "cell_type": "code",
   "execution_count": 11,
   "id": "d0cf47cc-8234-40fb-86ff-b5d38f115111",
   "metadata": {},
   "outputs": [],
   "source": [
    "del dados['Ferreira']"
   ]
  },
  {
   "cell_type": "code",
   "execution_count": 12,
   "id": "40ba6d91-0e8a-42c7-a429-e33fd614e0ee",
   "metadata": {},
   "outputs": [
    {
     "data": {
      "text/plain": [
       "{'Rafael': 31, 'Rodrigo': 32, 'Pereira': 33, 'Almeida': 34}"
      ]
     },
     "execution_count": 12,
     "metadata": {},
     "output_type": "execute_result"
    }
   ],
   "source": [
    "dados"
   ]
  },
  {
   "cell_type": "code",
   "execution_count": 13,
   "id": "8e975929-a014-488b-aa11-3acb466be6b7",
   "metadata": {},
   "outputs": [],
   "source": [
    "dados = {\n",
    "    'Passat': {\n",
    "        'ano': 2012,\n",
    "        'km': 50000,\n",
    "        'valor': 75000,\n",
    "        'acessorios': ['Airbag', 'ABS']\n",
    "    }, \n",
    "    'Crossfox': {\n",
    "        'ano': 2015,\n",
    "        'km': 35000,\n",
    "        'valor': 25000\n",
    "    }\n",
    "}"
   ]
  },
  {
   "cell_type": "code",
   "execution_count": 17,
   "id": "1fa6e61e-e3ed-4c9d-bb60-716affce9ad7",
   "metadata": {},
   "outputs": [
    {
     "data": {
      "text/plain": [
       "False"
      ]
     },
     "execution_count": 17,
     "metadata": {},
     "output_type": "execute_result"
    }
   ],
   "source": [
    "'acessorios' in dados['Crossfox']"
   ]
  },
  {
   "cell_type": "code",
   "execution_count": 18,
   "id": "465c770f-83ea-48ff-a52c-671f1688b264",
   "metadata": {},
   "outputs": [
    {
     "data": {
      "text/plain": [
       "True"
      ]
     },
     "execution_count": 18,
     "metadata": {},
     "output_type": "execute_result"
    }
   ],
   "source": [
    "'acessorios' in dados['Passat']"
   ]
  },
  {
   "cell_type": "code",
   "execution_count": 19,
   "id": "df471dbf-f8a4-46e1-bf8a-a861c26b4837",
   "metadata": {},
   "outputs": [
    {
     "data": {
      "text/plain": [
       "25000"
      ]
     },
     "execution_count": 19,
     "metadata": {},
     "output_type": "execute_result"
    }
   ],
   "source": [
    "dados['Crossfox']['valor']"
   ]
  },
  {
   "cell_type": "code",
   "execution_count": 20,
   "id": "4eac6543-f989-4213-aca1-6917b9333bb3",
   "metadata": {},
   "outputs": [
    {
     "data": {
      "text/plain": [
       "'ABS'"
      ]
     },
     "execution_count": 20,
     "metadata": {},
     "output_type": "execute_result"
    }
   ],
   "source": [
    "dados['Passat']['acessorios'][-1]"
   ]
  },
  {
   "cell_type": "code",
   "execution_count": 21,
   "id": "0750d54d-33ed-48b5-b2f1-cc6cf9b122b3",
   "metadata": {},
   "outputs": [
    {
     "data": {
      "text/plain": [
       "{'Passat': {'ano': 2012,\n",
       "  'km': 50000,\n",
       "  'valor': 75000,\n",
       "  'acessorios': ['Airbag', 'ABS']},\n",
       " 'Crossfox': {'ano': 2015, 'km': 35000, 'valor': 25000}}"
      ]
     },
     "execution_count": 21,
     "metadata": {},
     "output_type": "execute_result"
    }
   ],
   "source": [
    "dados"
   ]
  },
  {
   "cell_type": "code",
   "execution_count": 22,
   "id": "cb3f1256-cbea-42d8-8d87-3796179b96d7",
   "metadata": {},
   "outputs": [],
   "source": [
    "dados = {'Crossfox': 72832.16, 'DS5': 124549.07, 'Jetta Variant': 88078.64}\n"
   ]
  },
  {
   "cell_type": "code",
   "execution_count": 23,
   "id": "6c9fe75b-3475-4004-b3ef-e35e3e355b98",
   "metadata": {},
   "outputs": [
    {
     "data": {
      "text/plain": [
       "{'Crossfox': 72832.16, 'DS5': 124549.07, 'Jetta Variant': 88078.64}"
      ]
     },
     "execution_count": 23,
     "metadata": {},
     "output_type": "execute_result"
    }
   ],
   "source": [
    "dados"
   ]
  },
  {
   "cell_type": "code",
   "execution_count": 25,
   "id": "e45bf015-af6b-4e59-bfa4-677585c53d0f",
   "metadata": {},
   "outputs": [],
   "source": [
    "dados.update({'Passat':106161.94})"
   ]
  },
  {
   "cell_type": "code",
   "execution_count": 26,
   "id": "f3434c2d-dcb6-4648-bc1e-cfde0d7c3c42",
   "metadata": {},
   "outputs": [
    {
     "data": {
      "text/plain": [
       "{'Crossfox': 72832.16,\n",
       " 'DS5': 124549.07,\n",
       " 'Jetta Variant': 88078.64,\n",
       " 'Passat': 106161.94}"
      ]
     },
     "execution_count": 26,
     "metadata": {},
     "output_type": "execute_result"
    }
   ],
   "source": [
    "dados"
   ]
  },
  {
   "cell_type": "code",
   "execution_count": 27,
   "id": "e02051d1-4d6b-4813-b9f9-2f96a6f2dea7",
   "metadata": {},
   "outputs": [],
   "source": [
    "dadosCopy = dados.copy()"
   ]
  },
  {
   "cell_type": "code",
   "execution_count": 28,
   "id": "8866e936-b1fd-48bf-97d5-26c228d3219a",
   "metadata": {},
   "outputs": [
    {
     "data": {
      "text/plain": [
       "{'Crossfox': 72832.16,\n",
       " 'DS5': 124549.07,\n",
       " 'Jetta Variant': 88078.64,\n",
       " 'Passat': 106161.94}"
      ]
     },
     "execution_count": 28,
     "metadata": {},
     "output_type": "execute_result"
    }
   ],
   "source": [
    "dadosCopy"
   ]
  },
  {
   "cell_type": "code",
   "execution_count": 29,
   "id": "44df48b6-a97c-485f-b14f-612fab753db0",
   "metadata": {},
   "outputs": [
    {
     "data": {
      "text/plain": [
       "106161.94"
      ]
     },
     "execution_count": 29,
     "metadata": {},
     "output_type": "execute_result"
    }
   ],
   "source": [
    "dadosCopy.pop('Passat')"
   ]
  },
  {
   "cell_type": "code",
   "execution_count": 30,
   "id": "ed197375-1f33-4ffc-8494-cbb04dc05147",
   "metadata": {},
   "outputs": [
    {
     "data": {
      "text/plain": [
       "{'Crossfox': 72832.16, 'DS5': 124549.07, 'Jetta Variant': 88078.64}"
      ]
     },
     "execution_count": 30,
     "metadata": {},
     "output_type": "execute_result"
    }
   ],
   "source": [
    "dadosCopy"
   ]
  },
  {
   "cell_type": "code",
   "execution_count": 31,
   "id": "7635c105-fe53-45fe-9187-95f67d5b396f",
   "metadata": {},
   "outputs": [
    {
     "data": {
      "text/plain": [
       "'Chave não encontrada'"
      ]
     },
     "execution_count": 31,
     "metadata": {},
     "output_type": "execute_result"
    }
   ],
   "source": [
    "dadosCopy.pop('Passat','Chave não encontrada')"
   ]
  },
  {
   "cell_type": "code",
   "execution_count": 32,
   "id": "6572a8f9-a30d-4d5b-8aff-f7a12aca7cd5",
   "metadata": {},
   "outputs": [],
   "source": [
    "dadosCopy.clear()"
   ]
  },
  {
   "cell_type": "code",
   "execution_count": 33,
   "id": "fe09fcc4-d89c-452e-b70c-d5f8ded0d38c",
   "metadata": {},
   "outputs": [
    {
     "data": {
      "text/plain": [
       "{}"
      ]
     },
     "execution_count": 33,
     "metadata": {},
     "output_type": "execute_result"
    }
   ],
   "source": [
    "dadosCopy"
   ]
  },
  {
   "cell_type": "code",
   "execution_count": 35,
   "id": "6b2c1ad8-6b1e-4e5f-aa1b-a23aae5c9ff7",
   "metadata": {},
   "outputs": [
    {
     "name": "stdout",
     "output_type": "stream",
     "text": [
      "72832.16\n",
      "124549.07\n",
      "88078.64\n",
      "106161.94\n"
     ]
    }
   ],
   "source": [
    "for key in dados.keys():\n",
    "    print(dados[key])"
   ]
  },
  {
   "cell_type": "code",
   "execution_count": 37,
   "id": "a095a82c-09dc-4918-92ec-6ecb2676916f",
   "metadata": {},
   "outputs": [
    {
     "data": {
      "text/plain": [
       "dict_values([72832.16, 124549.07, 88078.64, 106161.94])"
      ]
     },
     "execution_count": 37,
     "metadata": {},
     "output_type": "execute_result"
    }
   ],
   "source": [
    "dados.values()"
   ]
  },
  {
   "cell_type": "code",
   "execution_count": 38,
   "id": "b87dfd71-6717-47c6-8f45-dbdc7e674704",
   "metadata": {},
   "outputs": [
    {
     "data": {
      "text/plain": [
       "dict_items([('Crossfox', 72832.16), ('DS5', 124549.07), ('Jetta Variant', 88078.64), ('Passat', 106161.94)])"
      ]
     },
     "execution_count": 38,
     "metadata": {},
     "output_type": "execute_result"
    }
   ],
   "source": [
    "dados.items()"
   ]
  },
  {
   "cell_type": "code",
   "execution_count": 41,
   "id": "5030116f-8081-46f0-aa4a-1b0a2998f31a",
   "metadata": {},
   "outputs": [
    {
     "name": "stdout",
     "output_type": "stream",
     "text": [
      "('Crossfox', 72832.16)\n",
      "('DS5', 124549.07)\n",
      "('Jetta Variant', 88078.64)\n",
      "('Passat', 106161.94)\n"
     ]
    }
   ],
   "source": [
    "for item in dados.items():\n",
    "    print(item)"
   ]
  },
  {
   "cell_type": "code",
   "execution_count": 43,
   "id": "b4ea642d-5110-4335-a380-ade7fddd75bc",
   "metadata": {},
   "outputs": [
    {
     "name": "stdout",
     "output_type": "stream",
     "text": [
      "Crossfox 72832.16\n",
      "DS5 124549.07\n",
      "Jetta Variant 88078.64\n",
      "Passat 106161.94\n"
     ]
    }
   ],
   "source": [
    "for key, value in dados.items():\n",
    "    print(key, value)"
   ]
  },
  {
   "cell_type": "code",
   "execution_count": null,
   "id": "4ee09410-be1b-4d4b-bed9-ead0aa0f4dfa",
   "metadata": {},
   "outputs": [],
   "source": []
  }
 ],
 "metadata": {
  "kernelspec": {
   "display_name": "Python [conda env:base] *",
   "language": "python",
   "name": "conda-base-py"
  },
  "language_info": {
   "codemirror_mode": {
    "name": "ipython",
    "version": 3
   },
   "file_extension": ".py",
   "mimetype": "text/x-python",
   "name": "python",
   "nbconvert_exporter": "python",
   "pygments_lexer": "ipython3",
   "version": "3.13.5"
  }
 },
 "nbformat": 4,
 "nbformat_minor": 5
}
